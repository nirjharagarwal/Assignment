{
 "cells": [
  {
   "cell_type": "code",
   "execution_count": 23,
   "metadata": {},
   "outputs": [
    {
     "data": {
      "text/plain": [
       "6.0"
      ]
     },
     "execution_count": 23,
     "metadata": {},
     "output_type": "execute_result"
    }
   ],
   "source": [
    "#Question1.1\n",
    "\n",
    "class triangle:\n",
    "    def __init__(self,x,y,z):\n",
    "        self.x=x\n",
    "        self.y=y\n",
    "        self.z=z\n",
    "    \n",
    "    def cal(self):\n",
    "        if (self.x+self.y<=self.z) or (self.y+self.z<=self.x) or (self.z+self.x<=self.y):\n",
    "            return \"Triangle not possible\"\n",
    "        s = (self.x+self.y+self.z)/2\n",
    "        area = (s*(s-self.x)*(s-self.y)*(s-self.z))**0.5\n",
    "        return area\n",
    "\n",
    "a= triangle(3,4,5)\n",
    "a.cal()"
   ]
  },
  {
   "cell_type": "code",
   "execution_count": 14,
   "metadata": {},
   "outputs": [
    {
     "name": "stdout",
     "output_type": "stream",
     "text": [
      "['ancdd', '12345', '1234']\n"
     ]
    }
   ],
   "source": [
    "#Question1.2\n",
    "\n",
    "def filter_long_words(list1,num):\n",
    "    list2=[]\n",
    "    for i in list1:\n",
    "        if len(i)>num:\n",
    "            list2.append(i)\n",
    "    return list2\n",
    "\n",
    "sample_list=['anc','a','ancdd','12345','1234']\n",
    "print(filter_long_words(sample_list,3))"
   ]
  },
  {
   "cell_type": "code",
   "execution_count": 24,
   "metadata": {},
   "outputs": [
    {
     "name": "stdout",
     "output_type": "stream",
     "text": [
      "[3, 1, 5, 5, 4]\n"
     ]
    }
   ],
   "source": [
    "#Question2.1\n",
    "\n",
    "def word_length(list1):\n",
    "    list2=[]\n",
    "    for i in list1:\n",
    "        list2.append(len(i))\n",
    "    return list2\n",
    "\n",
    "sample_list=['anc','a','ancdd','12345','1234']\n",
    "print(word_length(sample_list))"
   ]
  },
  {
   "cell_type": "code",
   "execution_count": 26,
   "metadata": {},
   "outputs": [
    {
     "name": "stdout",
     "output_type": "stream",
     "text": [
      "False\n"
     ]
    }
   ],
   "source": [
    "#Question2.2\n",
    "\n",
    "def is_vowel(char):\n",
    "    if char=='a' or char=='e' or char=='i' or char=='o' or char=='u':\n",
    "        return True\n",
    "    else:\n",
    "        return False\n",
    "\n",
    "print(is_vowel('z'))"
   ]
  }
 ],
 "metadata": {
  "kernelspec": {
   "display_name": "Python 3",
   "language": "python",
   "name": "python3"
  },
  "language_info": {
   "codemirror_mode": {
    "name": "ipython",
    "version": 3
   },
   "file_extension": ".py",
   "mimetype": "text/x-python",
   "name": "python",
   "nbconvert_exporter": "python",
   "pygments_lexer": "ipython3",
   "version": "3.7.4"
  }
 },
 "nbformat": 4,
 "nbformat_minor": 2
}
